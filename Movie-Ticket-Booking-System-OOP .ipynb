{
 "cells": [
  {
   "cell_type": "code",
   "execution_count": 1,
   "id": "321beed9",
   "metadata": {},
   "outputs": [],
   "source": [
    "# Problem Statement: Movie Ticket Booking System\n",
    "\n",
    "# Create a MovieTicketBooking class with the following features:\n",
    "\n",
    "# Class: MovieTicketBooking\n",
    "# Attributes:\n",
    "\n",
    "# movie_name: The name of the movie.\n",
    "# total_seats: Total number of seats in the theater.\n",
    "# booked_seats: A list that tracks booked seat numbers.\n",
    "\n",
    "# Methods:\n",
    "\n",
    "# book_seat(seat_number)\n",
    "# Books a specific seat if available.\n",
    "# If the seat is already booked, display an appropriate message.\n",
    "\n",
    "# cancel_seat(seat_number)\n",
    "# Cancels the booking for a specific seat.\n",
    "# If the seat is not booked, display a message stating that the seat is already vacant.\n",
    "\n",
    "# show_available_seats()\n",
    "# Displays all available seat numbers.\n",
    "# show_booked_seats()\n",
    "\n",
    "# Displays all booked seat numbers."
   ]
  },
  {
   "cell_type": "code",
   "execution_count": 2,
   "id": "e15156da",
   "metadata": {},
   "outputs": [],
   "source": [
    "class MovieTicketBooking:\n",
    "    \n",
    "    def __init__(self,movie_name,total_seats):\n",
    "        self.movie_name = movie_name\n",
    "        self.total_seats = total_seats\n",
    "        self.booked_seats = []\n",
    "        \n",
    "    def book_seat(self,seat_number):\n",
    "        if seat_number not in self.booked_seats:\n",
    "            self.booked_seats.append(seat_number)\n",
    "            return f'You have just booked seat number {seat_number} for movie {self.movie_name}'\n",
    "        else:\n",
    "            return f'{seat_number} seat number is already booked'\n",
    "        \n",
    "    def cancel_seat(self,seat_number):\n",
    "        if seat_number in self.booked_seats:\n",
    "            self.booked_seats.remove(seat_number)\n",
    "            return f'You have just canceled seat number {seat_number}'\n",
    "        else:\n",
    "            return f'{seat_number} seat number is already vacant.'\n",
    "        \n",
    "    def show_available_sheets(self):\n",
    "        available_seats = []\n",
    "        for i in self.total_seats:\n",
    "            if i not in self.booked_seats:\n",
    "                available_seats.append(i)\n",
    "        return f'Available Seats : {available_seats}'\n",
    "    \n",
    "    def get_booked_seats(self):\n",
    "        return f'Booked Seats : {self.booked_seats}'"
   ]
  },
  {
   "cell_type": "code",
   "execution_count": 3,
   "id": "9fdbedc7",
   "metadata": {},
   "outputs": [
    {
     "name": "stdout",
     "output_type": "stream",
     "text": [
      "You have just booked seat number 2 for movie Pink\n",
      "2 seat number is already booked\n",
      "You have just booked seat number 3 for movie Pink\n",
      "You have just booked seat number 5 for movie Pink\n",
      "4 seat number is already vacant.\n",
      "You have just canceled seat number 2\n",
      "Available Seats : [1, 2, 4]\n",
      "Booked Seats : [3, 5]\n"
     ]
    }
   ],
   "source": [
    "film1 = MovieTicketBooking('Pink',[1,2,3,4,5])\n",
    "print(film1.book_seat(2))\n",
    "print(film1.book_seat(2))\n",
    "print(film1.book_seat(3))\n",
    "print(film1.book_seat(5))\n",
    "print(film1.cancel_seat(4))\n",
    "print(film1.cancel_seat(2))\n",
    "print(film1.show_available_sheets())\n",
    "print(film1.get_booked_seats())"
   ]
  },
  {
   "cell_type": "code",
   "execution_count": null,
   "id": "33c9f5a8",
   "metadata": {},
   "outputs": [],
   "source": []
  }
 ],
 "metadata": {
  "kernelspec": {
   "display_name": "Python 3 (ipykernel)",
   "language": "python",
   "name": "python3"
  },
  "language_info": {
   "codemirror_mode": {
    "name": "ipython",
    "version": 3
   },
   "file_extension": ".py",
   "mimetype": "text/x-python",
   "name": "python",
   "nbconvert_exporter": "python",
   "pygments_lexer": "ipython3",
   "version": "3.10.9"
  }
 },
 "nbformat": 4,
 "nbformat_minor": 5
}
