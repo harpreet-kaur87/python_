{
 "cells": [
  {
   "cell_type": "markdown",
   "id": "be861d15",
   "metadata": {},
   "source": [
    "**Word Frequency Counter**"
   ]
  },
  {
   "cell_type": "code",
   "execution_count": 15,
   "id": "cb32e8f3",
   "metadata": {},
   "outputs": [
    {
     "name": "stdout",
     "output_type": "stream",
     "text": [
      "Enter input (only text, no symbols or numbers): python is a powerful programming language. data science sql python machine learning python sql database programming language \n",
      "\n",
      "python:3\n",
      "programming:2\n",
      "sql:2\n",
      "is:1\n",
      "a:1\n",
      "powerful:1\n",
      "language.:1\n",
      "data:1\n",
      "science:1\n",
      "machine:1\n",
      "learning:1\n",
      "database:1\n",
      "language:1\n"
     ]
    }
   ],
   "source": [
    "input_text = input('Enter input (only text, no symbols or numbers): ').lower()\n",
    "print()\n",
    "\n",
    "words = input_text.split()\n",
    "\n",
    "empty_dict = {}\n",
    "\n",
    "for word in words:\n",
    "    if word in empty_dict:\n",
    "        empty_dict[word] += 1\n",
    "    else:\n",
    "        empty_dict[word] = 1\n",
    "        \n",
    "sorted_format = sorted(empty_dict.items(), key=lambda x:x[1], reverse=True)\n",
    "        \n",
    "for key,value in sorted_format:\n",
    "    print(f'{key}:{value}')"
   ]
  }
 ],
 "metadata": {
  "kernelspec": {
   "display_name": "Python 3 (ipykernel)",
   "language": "python",
   "name": "python3"
  },
  "language_info": {
   "codemirror_mode": {
    "name": "ipython",
    "version": 3
   },
   "file_extension": ".py",
   "mimetype": "text/x-python",
   "name": "python",
   "nbconvert_exporter": "python",
   "pygments_lexer": "ipython3",
   "version": "3.10.9"
  }
 },
 "nbformat": 4,
 "nbformat_minor": 5
}
