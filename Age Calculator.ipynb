{
 "cells": [
  {
   "cell_type": "code",
   "execution_count": 3,
   "id": "a75c8b74",
   "metadata": {},
   "outputs": [],
   "source": [
    "from datetime import datetime, date"
   ]
  },
  {
   "cell_type": "code",
   "execution_count": 21,
   "id": "9b2722eb",
   "metadata": {},
   "outputs": [],
   "source": [
    "def age_calculator(birthdate):\n",
    "    \n",
    "    try:\n",
    "        birthdate = datetime.strptime(birthdate, '%Y-%m-%d').date()\n",
    "    except ValueError:\n",
    "        return f'Invalid date format. Please use YYYY-MM-DD.'\n",
    "    \n",
    "    today = date.today()\n",
    "    \n",
    "    years = today.year - birthdate.year\n",
    "    months = today.month - birthdate.month\n",
    "    days = today.day - birthdate.day\n",
    "    \n",
    "    if months < 0:\n",
    "        years -= 1\n",
    "        months += 12\n",
    "        \n",
    "    if days < 0:\n",
    "        months -= 1\n",
    "        days += (date(today.year,today.month,1) - date(today.year,today.month-1,1)).days\n",
    "            \n",
    "    return f'You are {years} years, {months} months and {days} days old.'"
   ]
  },
  {
   "cell_type": "code",
   "execution_count": 27,
   "id": "a68b7eb3",
   "metadata": {},
   "outputs": [
    {
     "name": "stdout",
     "output_type": "stream",
     "text": [
      "Enter your birthdate - YYYY-MM-DD  1995-05-20\n",
      "You are 30 years, 0 months and 14 days old.\n"
     ]
    }
   ],
   "source": [
    "input_1 = input(\"Enter your birthdate - YYYY-MM-DD  \")\n",
    "print(age_calculator(input_1))"
   ]
  },
  {
   "cell_type": "code",
   "execution_count": 30,
   "id": "0aaaad89",
   "metadata": {},
   "outputs": [
    {
     "name": "stdout",
     "output_type": "stream",
     "text": [
      "Enter your birthdate - YYYY-MM-DD  1990-10-30\n",
      "You are 34 years, 7 months and 4 days old.\n"
     ]
    }
   ],
   "source": [
    "input_2 = input(\"Enter your birthdate - YYYY-MM-DD  \")\n",
    "print(age_calculator(input_2))"
   ]
  }
 ],
 "metadata": {
  "kernelspec": {
   "display_name": "Python 3 (ipykernel)",
   "language": "python",
   "name": "python3"
  },
  "language_info": {
   "codemirror_mode": {
    "name": "ipython",
    "version": 3
   },
   "file_extension": ".py",
   "mimetype": "text/x-python",
   "name": "python",
   "nbconvert_exporter": "python",
   "pygments_lexer": "ipython3",
   "version": "3.10.9"
  }
 },
 "nbformat": 4,
 "nbformat_minor": 5
}
