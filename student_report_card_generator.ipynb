{
 "cells": [
  {
   "cell_type": "code",
   "execution_count": 3,
   "id": "16f7e62b",
   "metadata": {},
   "outputs": [
    {
     "name": "stdout",
     "output_type": "stream",
     "text": [
      "Student Report Card Generator\n",
      "\n",
      "Enter Student Name - damini\n",
      "Report Card of Damini\n",
      "Math : 89\n",
      "Science : 95\n",
      "English : 93\n",
      "Accounts : 90\n",
      "Total Marks : 367\n",
      "Average Marks : 91.75\n"
     ]
    }
   ],
   "source": [
    "print(\"Student Report Card Generator\")\n",
    "print()\n",
    "\n",
    "student_data = {'Harpreet' : {'Math' : 85, 'English' : 88, 'Science' : 96},\n",
    "               'Namit' : {'Physics' : 78, 'English' : 98, 'Economics' : 88},\n",
    "               'Sania' : {'English' : 65, 'Science' : 74, 'Physics' : 91, 'Math' : 100},\n",
    "               'Damini' : {'Math' : 89, 'Science' : 95, 'English' : 93, 'Accounts' : 90}}\n",
    "\n",
    "enter_student = input('Enter Student Name - ').title()\n",
    "    \n",
    "if enter_student in student_data:\n",
    "    print(f'Report Card of {enter_student}')\n",
    "    \n",
    "    marks = student_data[enter_student]\n",
    "    total_marks = sum(marks.values())\n",
    "    average_marks = total_marks/len(marks)\n",
    "    \n",
    "    for key,value in marks.items():\n",
    "        print(f'{key} : {value}')\n",
    "        \n",
    "    print(f'Total Marks : {total_marks}')\n",
    "    print(f'Average Marks : {average_marks}')\n",
    "else:\n",
    "    print(f'Student {enter_student} not found in records' )"
   ]
  },
  {
   "cell_type": "code",
   "execution_count": null,
   "id": "02739c79",
   "metadata": {},
   "outputs": [],
   "source": []
  }
 ],
 "metadata": {
  "kernelspec": {
   "display_name": "Python 3 (ipykernel)",
   "language": "python",
   "name": "python3"
  },
  "language_info": {
   "codemirror_mode": {
    "name": "ipython",
    "version": 3
   },
   "file_extension": ".py",
   "mimetype": "text/x-python",
   "name": "python",
   "nbconvert_exporter": "python",
   "pygments_lexer": "ipython3",
   "version": "3.10.9"
  }
 },
 "nbformat": 4,
 "nbformat_minor": 5
}
