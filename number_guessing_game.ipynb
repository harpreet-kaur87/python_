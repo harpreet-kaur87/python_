{
 "cells": [
  {
   "cell_type": "code",
   "execution_count": 3,
   "id": "66201bbe",
   "metadata": {},
   "outputs": [
    {
     "name": "stdout",
     "output_type": "stream",
     "text": [
      "Guess a number between 1 to 100\n",
      "\n",
      "Attempt 1: Enter your guess - 22\n",
      "Your guess input is too low\n",
      "Attempt 2: Enter your guess - 50\n",
      "Your guess input is too low\n",
      "Attempt 3: Enter your guess - 80\n",
      "Your guess input is too low\n",
      "Attempt 4: Enter your guess - 90\n",
      "Your guess input is too high\n",
      "Attempt 5: Enter your guess - 87\n",
      "Your guess input is too high\n",
      "Attempt 6: Enter your guess - 82\n",
      "Your guess input is too low\n",
      "Attempt 7: Enter your guess - 85\n",
      "Your guess input is too low\n",
      "Attempt 8: Enter your guess - 86\n",
      "Your guess is right ! You win !\n"
     ]
    }
   ],
   "source": [
    "import random\n",
    "print('Guess a number between 1 to 100')\n",
    "print()\n",
    "random_input = random.randint(1,100)\n",
    "\n",
    "for attempt in range(1,11):\n",
    "    guess_input = int(input(f'Attempt {attempt}: Enter your guess - ' ))\n",
    "    if guess_input == random_input:\n",
    "        print('Your guess is right ! You win !')\n",
    "        break\n",
    "    elif guess_input < random_input:\n",
    "        print('Your guess input is too low')\n",
    "    elif guess_input > random_input:\n",
    "        print('Your guess input is too high')\n",
    "else:\n",
    "    print(f'Sorry, you have used all your attempts. The correct number was {random_input}')"
   ]
  },
  {
   "cell_type": "code",
   "execution_count": null,
   "id": "e4898775",
   "metadata": {},
   "outputs": [],
   "source": []
  }
 ],
 "metadata": {
  "kernelspec": {
   "display_name": "Python 3 (ipykernel)",
   "language": "python",
   "name": "python3"
  },
  "language_info": {
   "codemirror_mode": {
    "name": "ipython",
    "version": 3
   },
   "file_extension": ".py",
   "mimetype": "text/x-python",
   "name": "python",
   "nbconvert_exporter": "python",
   "pygments_lexer": "ipython3",
   "version": "3.10.9"
  }
 },
 "nbformat": 4,
 "nbformat_minor": 5
}
