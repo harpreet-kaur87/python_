{
 "cells": [
  {
   "cell_type": "code",
   "execution_count": 4,
   "id": "f8fc15a8",
   "metadata": {},
   "outputs": [
    {
     "name": "stdout",
     "output_type": "stream",
     "text": [
      "Welcome to XYZ School\n",
      "Courses Available\n",
      "\n",
      "Python : 100\n",
      "SQL : 70\n",
      "Microsoft Excel : 50\n",
      "Power BI : 90\n",
      "Machine Learning : 125\n",
      "\n",
      "Please enter the course you want to purchase : python\n",
      "Course python has been added to your cart\n",
      "Total amount so far : 100\n",
      "Do you want to purchase another course : (Yes/No)yes\n",
      "Please enter the course you want to purchase : sql\n",
      "Course sql has been added to your cart\n",
      "Total amount so far : 170\n",
      "Do you want to purchase another course : (Yes/No)yes\n",
      "Please enter the course you want to purchase : microsoft excel\n",
      "Course microsoft excel has been added to your cart\n",
      "Total amount so far : 220\n",
      "Do you want to purchase another course : (Yes/No)yes\n",
      "Please enter the course you want to purchase : statistics\n",
      "statistics is not available\n",
      "Do you want to purchase another course : (Yes/No)no\n",
      "Your total amount to pay is 220\n"
     ]
    }
   ],
   "source": [
    "courses = {\n",
    "    'Python':100,\n",
    "    'SQL' : 70,\n",
    "    'Microsoft Excel' : 50,\n",
    "    'Power BI' : 90,\n",
    "    'Machine Learning' : 125\n",
    "}\n",
    "\n",
    "print('Welcome to XYZ School')\n",
    "print('Courses Available')\n",
    "print()\n",
    "\n",
    "for items,prices in courses.items():\n",
    "    print(f'{items} : {prices}')\n",
    "print()\n",
    "total = 0\n",
    "\n",
    "lowercase_courses = {key.lower(): value for key, value in courses.items()}\n",
    "\n",
    "while True:\n",
    "    course = input('Please enter the course you want to purchase : ').strip().lower()\n",
    "    if course in lowercase_courses:\n",
    "        total += lowercase_courses[course]\n",
    "        print(f'Course {course} has been added to your cart') \n",
    "        print(f'Total amount so far : {total}')\n",
    "    else:\n",
    "        print(f'{course} is not available')\n",
    "    \n",
    "    another_course = input('Do you want to purchase another course : (Yes/No)').strip().lower()\n",
    "    if another_course != 'yes':\n",
    "        break\n",
    "    \n",
    "print(f'Your total amount to pay is {total}')"
   ]
  },
  {
   "cell_type": "code",
   "execution_count": null,
   "id": "e9ec0de9",
   "metadata": {},
   "outputs": [],
   "source": []
  },
  {
   "cell_type": "code",
   "execution_count": null,
   "id": "2d36f4e8",
   "metadata": {},
   "outputs": [],
   "source": []
  }
 ],
 "metadata": {
  "kernelspec": {
   "display_name": "Python 3 (ipykernel)",
   "language": "python",
   "name": "python3"
  },
  "language_info": {
   "codemirror_mode": {
    "name": "ipython",
    "version": 3
   },
   "file_extension": ".py",
   "mimetype": "text/x-python",
   "name": "python",
   "nbconvert_exporter": "python",
   "pygments_lexer": "ipython3",
   "version": "3.10.9"
  }
 },
 "nbformat": 4,
 "nbformat_minor": 5
}
