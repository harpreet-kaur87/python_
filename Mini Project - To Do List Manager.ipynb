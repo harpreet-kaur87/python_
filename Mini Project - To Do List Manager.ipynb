{
 "cells": [
  {
   "cell_type": "code",
   "execution_count": null,
   "id": "a464de0c",
   "metadata": {},
   "outputs": [
    {
     "name": "stdout",
     "output_type": "stream",
     "text": [
      "Press 1 for adding the task in List Manager\n",
      "Press 2 for removing task from List Manager\n",
      "Press 3 for viewing all tasks in List Manager\n",
      "Press 4 for Exit List Manager\n",
      "Enter your option - 1\n",
      "Enter your task - do yoga\n",
      "Your new entered task is ---> do yoga\n",
      "Do you want to add another task - yes/noyes\n"
     ]
    }
   ],
   "source": [
    "print('Press 1 for adding the task in List Manager')\n",
    "print('Press 2 for removing task from List Manager')\n",
    "print('Press 3 for viewing all tasks in List Manager')\n",
    "print('Press 4 for Exit List Manager')\n",
    "\n",
    "lst = []\n",
    "\n",
    "for i in range(10):\n",
    "    user_input = int(input('Enter your option - '))\n",
    "    if user_input ==  1:\n",
    "        task_count = 0\n",
    "        for i in range(5):\n",
    "            enter_task = input('Enter your task - ')\n",
    "            lst.append(enter_task)\n",
    "            task_count += 1\n",
    "            print(f'Your new entered task is ---> {enter_task}')\n",
    "            another_task = input('Do you want to add another task - yes/no').lower()\n",
    "            if another_task != 'yes':\n",
    "                break\n",
    "        if task_count == 5:\n",
    "            print(\"You’ve reached the maximum limit of 5 tasks.\")\n",
    "    elif user_input == 2:\n",
    "        remove_task = input('Enter your task - ')\n",
    "        if remove_task in lst:\n",
    "            lst.remove(remove_task)\n",
    "            print(f'Task {remove_task}, removed.')\n",
    "        else:\n",
    "            print('Task not found')\n",
    "    elif user_input == 3:\n",
    "        if lst:\n",
    "            print('Your Tasks : ')\n",
    "            print()\n",
    "            for task in lst:\n",
    "                print(task)\n",
    "        else:\n",
    "            print('No task to display.')\n",
    "    elif user_input == 4:\n",
    "        print('Exiting List Manager')\n",
    "        break\n",
    "    else:\n",
    "        print('Enter valid input')\n",
    "    "
   ]
  },
  {
   "cell_type": "code",
   "execution_count": null,
   "id": "f124002b",
   "metadata": {},
   "outputs": [],
   "source": []
  }
 ],
 "metadata": {
  "kernelspec": {
   "display_name": "Python 3 (ipykernel)",
   "language": "python",
   "name": "python3"
  },
  "language_info": {
   "codemirror_mode": {
    "name": "ipython",
    "version": 3
   },
   "file_extension": ".py",
   "mimetype": "text/x-python",
   "name": "python",
   "nbconvert_exporter": "python",
   "pygments_lexer": "ipython3",
   "version": "3.10.9"
  }
 },
 "nbformat": 4,
 "nbformat_minor": 5
}
